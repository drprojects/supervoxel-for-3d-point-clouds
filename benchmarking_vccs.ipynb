{
 "cells": [
  {
   "cell_type": "markdown",
   "id": "1ac2dd5c-31e9-47e1-85f9-f79cbca23fc6",
   "metadata": {},
   "source": [
    "# Saving the point cloud from `Data` to `.xyz` format for VCCS benchmarking"
   ]
  },
  {
   "cell_type": "code",
   "execution_count": 8,
   "id": "5cf87964-602a-4049-9d6c-bbcc8f7639a1",
   "metadata": {},
   "outputs": [],
   "source": [
    "import torch\n",
    "import os.path as osp\n",
    "import subprocess\n",
    "\n",
    "\n",
    "def save_xyz_rgb(xyz: torch.Tensor, rgb: torch.Tensor, path: str):\n",
    "    \"\"\"\n",
    "    Save point cloud to .xyz format (x y z r g b) for C++ supervoxel code.\n",
    "    \n",
    "    Args:\n",
    "        xyz (torch.Tensor): [N, 3], dtype=torch.float32 or float64\n",
    "        rgb (torch.Tensor): [N, 3], dtype=torch.uint8 (0-255)\n",
    "        path (str): Output file path.\n",
    "    \"\"\"\n",
    "    assert xyz.ndim == 2 and xyz.shape[1] == 3, \"xyz must be [N,3]\"\n",
    "    assert rgb.ndim == 2 and rgb.shape[1] == 3, \"rgb must be [N,3]\"\n",
    "    assert xyz.shape[0] == rgb.shape[0], \"xyz and rgb must have same N\"\n",
    "    assert rgb.dtype == torch.uint8, \"rgb must be uint8\"\n",
    "\n",
    "    # Convert to CPU numpy arrays\n",
    "    xyz_np = xyz.cpu().numpy()\n",
    "    rgb_np = rgb.cpu().numpy()\n",
    "\n",
    "    with open(path, 'w') as f:\n",
    "        for p, c in zip(xyz_np, rgb_np):\n",
    "            f.write(f\"{p[0]} {p[1]} {p[2]} {int(c[0])} {int(c[1])} {int(c[2])}\\n\")\n",
    "\n",
    "    print(f\"Saved {xyz.shape[0]} points to {path}\")\n",
    "\n",
    "\n",
    "def read_xyz_rgb_label(path: str):\n",
    "    \"\"\"\n",
    "    Reads an XYZ+RGB+label file into torch tensors.\n",
    "\n",
    "    Args:\n",
    "        path (str): Path to the .xyz file.\n",
    "\n",
    "    Returns:\n",
    "        xyz: Float tensor of shape [N, 3]\n",
    "        rgb: UInt8 tensor of shape [N, 3]\n",
    "        labels: Long tensor of shape [N]\n",
    "    \"\"\"\n",
    "    # Load everything as float first\n",
    "    data = torch.tensor([list(map(float, line.strip().split()))\n",
    "                         for line in open(path) if line.strip()], dtype=torch.float)\n",
    "\n",
    "    if data.shape[1] != 7:\n",
    "        raise ValueError(f\"Expected 7 columns in the file (x y z r g b label), got {data.shape[1]}\")\n",
    "\n",
    "    xyz = data[:, :3].clone()           # x, y, z\n",
    "    rgb = data[:, 3:6].to(torch.uint8)  # r, g, b\n",
    "    labels = data[:, 6].to(torch.long)  # label index\n",
    "\n",
    "    return xyz, rgb, labels"
   ]
  },
  {
   "cell_type": "code",
   "execution_count": 9,
   "id": "b38626ad-32ae-4998-acf8-412e191dd108",
   "metadata": {},
   "outputs": [],
   "source": [
    "# Example command with arguments\n",
    "resolution = 1.0\n",
    "root_dir = \"/home/damien/projects/supervoxel-for-3d-point-clouds\"\n",
    "save_vccs_output_to_disk = True\n",
    "\n",
    "input_file = osp.join(root_dir, 'test_data', 'xyzrgb_area5_voxelized_3cm.xyz')\n",
    "output_file = osp.join(root_dir, 'test_data', 'xyzrgb_area5_voxelized_3cm_out_vccs.xyz')"
   ]
  },
  {
   "cell_type": "code",
   "execution_count": 10,
   "id": "3711f41f-149d-49bb-80fa-07fb854a4e8e",
   "metadata": {},
   "outputs": [],
   "source": [
    "# To save an existing Data object to the input file format for VCCS\n",
    "# save_xyz_rgb(data.pos, data.rgb, input_file)"
   ]
  },
  {
   "cell_type": "code",
   "execution_count": 11,
   "id": "7047ff3c-9023-4645-bf0e-a4ed4152b82a",
   "metadata": {},
   "outputs": [
    {
     "name": "stdout",
     "output_type": "stream",
     "text": [
      "Output:\n",
      " I0815 12:03:58.424 main.cc:87] Using file: /home/damien/projects/supervoxel-for-3d-point-clouds/test_data/xyzrgb_area5_voxelized_3cm.xyz\n",
      "I0815 12:03:58.424 main.cc:88] Using resolution: 1\n",
      "I0815 12:03:58.424 main.cc:99] Reading points from /home/damien/projects/supervoxel-for-3d-point-clouds/test_data/xyzrgb_area5_voxelized_3cm.xyz...\n",
      "I0815 12:04:06.015 main.cc:106] 9307791 points are imported.\n",
      "I0815 12:04:06.015 main.cc:107] Time for reading points: 7591 ms\n",
      "I0815 12:04:06.015 main.cc:113] Building KD tree...\n",
      "I0815 12:04:17.979 main.cc:132] Time for KD-tree + KNN + normals: 11963 ms\n",
      "I0815 12:04:17.979 main.cc:138] Start SupervoxelSegmentation...\n",
      "I0815 12:04:28.678 main.cc:155] Time for SupervoxelSegmentation: 10699 ms\n",
      "I0815 12:04:28.678 main.cc:158] Input points: 9307791, Output superpoints: 6862\n",
      "I0815 12:04:28.678 main.cc:163] Start VCCS supervoxel segmentation...\n",
      "I0815 12:04:47.333 main.cc:172] Time for VCCS: 18654 ms\n",
      "I0815 12:04:47.333 main.cc:175] Input points: 9307791, Output superpoints: 6859\n",
      "I0815 12:04:47.333 main.cc:180] Start KNN variant of VCCS supervoxel segmentation...\n",
      "I0815 12:05:14.078 main.cc:188] Time for VCCS-KNN: 26745 ms\n",
      "I0815 12:05:14.079 main.cc:191] Input points: 9307791, Output superpoints: 6862\n",
      "\n",
      "Errors:\n",
      " \n"
     ]
    }
   ],
   "source": [
    "# Construct the command as a list of strings\n",
    "cmd = [osp.join(root_dir, \"superpoints\"), input_file, str(resolution)] + ['--save'] * save_vccs_output_to_disk\n",
    "\n",
    "# Run the command\n",
    "result = subprocess.run(cmd, capture_output=True, text=True)\n",
    "\n",
    "# Print stdout and stderr\n",
    "print(\"Output:\\n\", result.stdout)\n",
    "print(\"Errors:\\n\", result.stderr)\n",
    "\n",
    "# Check return code\n",
    "if result.returncode != 0:\n",
    "    print(\"Command failed\")"
   ]
  },
  {
   "cell_type": "code",
   "execution_count": 12,
   "id": "156fe9de-0403-40da-8696-bba24f2ef139",
   "metadata": {},
   "outputs": [],
   "source": [
    "xyz, rgb_for_sp_viz, super_index = read_xyz_rgb_label(output_file)"
   ]
  },
  {
   "cell_type": "code",
   "execution_count": null,
   "id": "784a92d5-6b5b-4056-a1e6-a51fe29c86c5",
   "metadata": {},
   "outputs": [],
   "source": []
  }
 ],
 "metadata": {
  "kernelspec": {
   "display_name": "Python [conda env:spt] *",
   "language": "python",
   "name": "conda-env-spt-py"
  },
  "language_info": {
   "codemirror_mode": {
    "name": "ipython",
    "version": 3
   },
   "file_extension": ".py",
   "mimetype": "text/x-python",
   "name": "python",
   "nbconvert_exporter": "python",
   "pygments_lexer": "ipython3",
   "version": "3.8.19"
  }
 },
 "nbformat": 4,
 "nbformat_minor": 5
}
